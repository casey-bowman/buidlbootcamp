{
 "cells": [
  {
   "cell_type": "markdown",
   "metadata": {},
   "source": [
    "# ECDSA Coin"
   ]
  },
  {
   "cell_type": "code",
   "execution_count": 1,
   "metadata": {
    "scrolled": true
   },
   "outputs": [],
   "source": [
    "import json, uuid\n",
    "from collections import namedtuple\n",
    "from ecdsa import SigningKey, VerifyingKey, SECP256k1"
   ]
  },
  {
   "cell_type": "code",
   "execution_count": 2,
   "metadata": {},
   "outputs": [
    {
     "name": "stdout",
     "output_type": "stream",
     "text": [
      "Bank's Private Number\n",
      "82131106019680303505331557872062346035977047103534656354347208601839669582133\n",
      "Bank's Public Point\n",
      "95051501039409970067261119404617994246947706915280330673843616240644275979899,78071805429316904014428946848697643626369175962321260703189237284449878490278\n"
     ]
    }
   ],
   "source": [
    "bank_secret_exponent = 82131106019680303505331557872062346035977047103534656354347208601839669582133\n",
    "bank_sk = SigningKey.from_secret_exponent(bank_secret_exponent, curve=SECP256k1)\n",
    "bank_vk = bank_sk.get_verifying_key()\n",
    "print(\"Bank's Private Number\")\n",
    "print(bank_sk.privkey.secret_multiplier)\n",
    "print(\"Bank's Public Point\")\n",
    "bank_public_pair = f\"{bank_vk.pubkey.point.x()},{bank_vk.pubkey.point.y()}\"\n",
    "print(bank_public_pair)"
   ]
  },
  {
   "cell_type": "code",
   "execution_count": 3,
   "metadata": {},
   "outputs": [
    {
     "name": "stdout",
     "output_type": "stream",
     "text": [
      "John's Private Number\n",
      "55717470057311173409666612548673609704723143884008771644960450831012091928340\n",
      "John's Public Point\n",
      "87860107722650376950591458572346651373609029431396281467831473416418437360010,33742848381639124428566088663160518976625562547340001098886219967852176188186\n"
     ]
    }
   ],
   "source": [
    "john_secret_multiplier = 55717470057311173409666612548673609704723143884008771644960450831012091928340\n",
    "john_sk = SigningKey.from_secret_exponent(john_secret_multiplier, curve=SECP256k1)\n",
    "john_vk = john_sk.get_verifying_key()\n",
    "print(\"John's Private Number\")\n",
    "print(john_sk.privkey.secret_multiplier)\n",
    "print(\"John's Public Point\")\n",
    "john_public_pair = f\"{john_vk.pubkey.point.x()},{john_vk.pubkey.point.y()}\"\n",
    "print(john_public_pair)"
   ]
  },
  {
   "cell_type": "code",
   "execution_count": 4,
   "metadata": {},
   "outputs": [
    {
     "data": {
      "text/plain": [
       "'[{\"message\": \"95051501039409970067261119404617994246947706915280330673843616240644275979899,78071805429316904014428946848697643626369175962321260703189237284449878490278 issues 10 units to 87860107722650376950591458572346651373609029431396281467831473416418437360010,33742848381639124428566088663160518976625562547340001098886219967852176188186\", \"signature\": \"9e7382b0e258f13eeb8ad12ca2c67e1cf12d1f352d564ba5b0db1767818b5a36ca412886c0d7fa576035a869a20214abaa0cd70038c67f5affc7400efafc4fdd\"}]'"
      ]
     },
     "execution_count": 4,
     "metadata": {},
     "output_type": "execute_result"
    }
   ],
   "source": [
    "minting_message = bank_public_pair.encode() + \\\n",
    "    b\" issues 10 units to \" + \\\n",
    "    john_public_pair.encode()\n",
    "\n",
    "minting_signature = bank_sk.sign(minting_message)\n",
    "\n",
    "note = [\n",
    "    {\n",
    "        \"message\": minting_message.decode(),\n",
    "        \"signature\": minting_signature.hex(),\n",
    "    }\n",
    "]\n",
    "\n",
    "json.dumps(note)"
   ]
  },
  {
   "cell_type": "code",
   "execution_count": 5,
   "metadata": {},
   "outputs": [
    {
     "name": "stdout",
     "output_type": "stream",
     "text": [
      "Jane's Private Number\n",
      "10565481194119334483875173041211335223782298787713172586376122207587136082178\n",
      "Jane's Public Point\n",
      "101182973845320608199178831480609363769360760128553409660049830616697444913118,85294227196750083999328783434966373443271284891873157948555858416033959589163\n"
     ]
    }
   ],
   "source": [
    "jane_secret_multiplier = 10565481194119334483875173041211335223782298787713172586376122207587136082178\n",
    "jane_sk = SigningKey.from_secret_exponent(jane_secret_multiplier, curve=SECP256k1)\n",
    "jane_vk = jane_sk.get_verifying_key()\n",
    "print(\"Jane's Private Number\")\n",
    "print(jane_sk.privkey.secret_multiplier)\n",
    "print(\"Jane's Public Point\")\n",
    "jane_public_pair = f\"{jane_vk.pubkey.point.x()},{jane_vk.pubkey.point.y()}\"\n",
    "print(jane_public_pair)"
   ]
  },
  {
   "cell_type": "code",
   "execution_count": 6,
   "metadata": {},
   "outputs": [
    {
     "data": {
      "text/plain": [
       "'[{\"message\": \"95051501039409970067261119404617994246947706915280330673843616240644275979899,78071805429316904014428946848697643626369175962321260703189237284449878490278 issues 10 units to 87860107722650376950591458572346651373609029431396281467831473416418437360010,33742848381639124428566088663160518976625562547340001098886219967852176188186\", \"signature\": \"9e7382b0e258f13eeb8ad12ca2c67e1cf12d1f352d564ba5b0db1767818b5a36ca412886c0d7fa576035a869a20214abaa0cd70038c67f5affc7400efafc4fdd\"}, {\"message\": \"87860107722650376950591458572346651373609029431396281467831473416418437360010,33742848381639124428566088663160518976625562547340001098886219967852176188186 transfers to 101182973845320608199178831480609363769360760128553409660049830616697444913118,85294227196750083999328783434966373443271284891873157948555858416033959589163\", \"signature\": \"de83a3a53b66a6a0e688a6cc4da7d346870a359f42735d649622cc78c0aceac652d26af98489200c9d613d0efa566ec2a89a21cc0a8e3ac791f6b9819d55cd94\"}]'"
      ]
     },
     "execution_count": 6,
     "metadata": {},
     "output_type": "execute_result"
    }
   ],
   "source": [
    "john_to_jane_message = john_public_pair.encode() + \\\n",
    "    b\" transfers to \" + \\\n",
    "    jane_public_pair.encode()\n",
    "\n",
    "john_to_jane_signature = john_sk.sign(john_to_jane_message)\n",
    "\n",
    "transfer = {\n",
    "    \"message\": john_to_jane_message.decode(),\n",
    "    \"signature\": john_to_jane_signature.hex(),\n",
    "}\n",
    "\n",
    "new_note = note.copy()\n",
    "new_note.append(transfer)\n",
    "\n",
    "json.dumps(new_note)"
   ]
  },
  {
   "cell_type": "code",
   "execution_count": 7,
   "metadata": {},
   "outputs": [
    {
     "data": {
      "text/plain": [
       "128"
      ]
     },
     "execution_count": 7,
     "metadata": {},
     "output_type": "execute_result"
    }
   ],
   "source": [
    "len(\"20fbfb8ef6409de541c9a80ae008f013cffb80451ece0a71f7dd24816cafa453c2e2deade9a1f1ffbe1d1b58bb8593c7faed3ebacb56e019e6e60aafd1df4881\")"
   ]
  },
  {
   "cell_type": "code",
   "execution_count": 8,
   "metadata": {},
   "outputs": [],
   "source": [
    "import ecdsa\n",
    "\n",
    "def validate_note(note_json):\n",
    "    note = json.loads(note_json)\n",
    "    \n",
    "    minting_transfer = note[0]\n",
    "    transfers = note[1:]\n",
    "    \n",
    "    minting_transfer_parts = minting_transfer[\"message\"].split(\" \")\n",
    "    \n",
    "    x, y = minting_transfer_parts[0].split(\",\")\n",
    "    bank_point = ecdsa.ecdsa.ellipticcurve.Point(SECP256k1.curve, int(x), int(y))\n",
    "    bank_vk = VerifyingKey.from_public_point(bank_point, curve=SECP256k1)\n",
    "    verifies = bank_vk.verify(\n",
    "        bytes.fromhex(minting_transfer[\"signature\"]),\n",
    "        minting_transfer[\"message\"].encode(),\n",
    "    )\n",
    "    if not verifies:\n",
    "        raise ValueError(\"Not minted by the bank\")\n",
    "    \n",
    "    current_pair = minting_transfer_parts[-1]\n",
    "    x, y = current_pair.split(\",\")\n",
    "    current_point = ecdsa.ecdsa.ellipticcurve.Point(SECP256k1.curve, int(x), int(y))\n",
    "    current_vk = VerifyingKey.from_public_point(current_point, curve=SECP256k1)\n",
    "    \n",
    "    for transfer in transfers:\n",
    "        message_parts = transfer[\"message\"].split(\" \")\n",
    "        next_pair = message_parts[0]\n",
    "\n",
    "        if next_pair != current_pair:\n",
    "            print(\"Transfer chain out-of-order\")\n",
    "        \n",
    "        signature = minting_transfer_parts[-1]\n",
    "        verifies = current_vk.verify(\n",
    "            bytes.fromhex(transfer[\"signature\"]),\n",
    "            transfer[\"message\"].encode(),\n",
    "        )\n",
    "        if not verifies:\n",
    "            raise ValueError(\"Signature doesn't verify\")\n",
    "        \n",
    "        current_pair = next_pair\n",
    "\n",
    "validate_note(json.dumps(new_note))"
   ]
  }
 ],
 "metadata": {
  "kernelspec": {
   "display_name": "Python 3",
   "language": "python",
   "name": "python3"
  },
  "language_info": {
   "codemirror_mode": {
    "name": "ipython",
    "version": 3
   },
   "file_extension": ".py",
   "mimetype": "text/x-python",
   "name": "python",
   "nbconvert_exporter": "python",
   "pygments_lexer": "ipython3",
   "version": "3.7.0"
  }
 },
 "nbformat": 4,
 "nbformat_minor": 2
}
